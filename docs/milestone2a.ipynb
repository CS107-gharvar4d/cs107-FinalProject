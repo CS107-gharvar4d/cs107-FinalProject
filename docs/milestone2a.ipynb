{
 "cells": [
  {
   "cell_type": "markdown",
   "metadata": {},
   "source": [
    "# Feedback\n",
    "## Software Organization: 2/3\n",
    "\n",
    "`Feedback from Milestone 1 Doc`:\n",
    "This would be nicer if you broke apart each answer to the questions asked explicitly. I'd like to see the potential directory structure as well. You can omit most of that fake unit test block as well.\n",
    "\n",
    "`Response to Feedback`:\n",
    "\n",
    "Directory will be structured based on functionality. Modules will be deployed according to program features such as mathematic calculations, user interface, computational graph and unit tests. \n",
    "\n",
    "* What will the directory structure look like?\n"
   ]
  },
  {{
 "cells": [
  {
   "cell_type": "markdown",
   "metadata": {},
   "source": [
    "# Feedback\n",
    "## Software Organization: 2/3\n",
    "\n",
    "`Feedback from Milestone 1 Doc`:\n",
    "This would be nicer if you broke apart each answer to the questions asked explicitly. I'd like to see the potential directory structure as well. You can omit most of that fake unit test block as well.\n",
    "\n",
    "`Response to Feedback`:\n",
    "\n",
    "Directory will be structured based on functionality. Modules will be deployed according to program features such as mathematic calculations, user interface, computational graph and unit tests. \n",
    "\n",
    "* What will the directory structure look like?\n"
   ]
  },
  {
   "cell_type": "markdown",
   "metadata": {},
   "source": [
    "    cs107-FinalProject/\n",
    "             README.md\n",
    "             docs/  \n",
    "                  milestone1\n",
    "                  milestone2a\n",
    "             math/\n",
    "                 ADmathcalcs.py\n",
    "             UI/\n",
    "                 ui_interface.py\n",
    "             common/\n",
    "                 shared_elementary_functions.py\n",
    "             test/\n",
    "                 ADunittests.py"
   ]
  },
  {
   "cell_type": "markdown",
   "metadata": {},
   "source": [
    "* What modules do you plan on including? What is their basic functionality?\n",
    "\n",
    "*Use of third-party libraries or modules are being considered at the time. This will help us support specific features of the project, but nothing specific has been defined yet. But we most probably consider numpy or scipy for data structures and basic operators.* \n",
    "\n",
    "* Where will your test suite live? Will you use TravisCI? CodeCov?\n",
    "\n",
    "*The project will leverage the unittest module to test, and will live in a separate directory structure as seen above.\n",
    "The test suite will be run automatically via TravisCI everytime we push a change into our branch.*\n",
    "\n",
    "* How will you distribute your package (e.g. PyPI)?\n",
    "\n",
    "*I intent to distribute via PyPI. For the moment will do do so via git clone or forking the project, as well as, ake it friendly to use on different environments such as conda, virtualenv, etc.*\n",
    "\n",
    "* How will you package your software? Will you use a framework? If so, which one and why? If not, why not? Other considerations?\n"
   ]
  },
  {
   "cell_type": "code",
   "execution_count": null,
   "metadata": {},
   "outputs": [],
   "source": []
  }
 ],
 "metadata": {
  "kernelspec": {
   "display_name": "Python 3",
   "language": "python",
   "name": "python3"
  },
  "language_info": {
   "codemirror_mode": {
    "name": "ipython",
    "version": 3
   },
   "file_extension": ".py",
   "mimetype": "text/x-python",
   "name": "python",
   "nbconvert_exporter": "python",
   "pygments_lexer": "ipython3",
   "version": "3.8.3"
  }
 },
 "nbformat": 4,
 "nbformat_minor": 4
}

   "cell_type": "raw",
   "metadata": {},
   "source": [
    "cs107-FinalProject/\n",
    "             README.md\n",
    "             docs/  \n",
    "                  milestone1\n",
    "                  milestone2a\n",
    "             math/\n",
    "                 ADmathcalcs.py\n",
    "             UI/\n",
    "                 ui_interface.py\n",
    "             common/\n",
    "                 shared_elementary_functions.py\n",
    "             test/\n",
    "                 ADunittests.py"
   ]
  },
  {
   "cell_type": "markdown",
   "metadata": {},
   "source": [
    "* What modules do you plan on including? What is their basic functionality?\n",
    "\n",
    "*Use of third-party libraries or modules are being considered at the time. This will help us support specific features of the project, but nothing specific has been defined yet. But we most probably consider numpy or scipy for data structures and basic operators.* \n",
    "\n",
    "* Where will your test suite live? Will you use TravisCI? CodeCov?\n",
    "\n",
    "*The project will leverage the unittest module to test, and will live in a separate directory structure as seen above.\n",
    "The test suite will be run automatically via TravisCI everytime we push a change into our branch.*\n",
    "\n",
    "* How will you distribute your package (e.g. PyPI)?\n",
    "\n",
    "*I intent to distribute via PyPI. For the moment will do do so via git clone or forking the project, as well as, ake it friendly to use on different environments such as conda, virtualenv, etc.*\n",
    "\n",
    "* How will you package your software? Will you use a framework? If so, which one and why? If not, why not? Other considerations?\n"
   ]
  },
  {
   "cell_type": "code",
   "execution_count": null,
   "metadata": {},
   "outputs": [],
   "source": []
  }
 ],
 "metadata": {
  "kernelspec": {
   "display_name": "Python 3",
   "language": "python",
   "name": "python3"
  },
  "language_info": {
   "codemirror_mode": {
    "name": "ipython",
    "version": 3
   },
   "file_extension": ".py",
   "mimetype": "text/x-python",
   "name": "python",
   "nbconvert_exporter": "python",
   "pygments_lexer": "ipython3",
   "version": "3.8.3"
  }
 },
 "nbformat": 4,
 "nbformat_minor": 4
}
